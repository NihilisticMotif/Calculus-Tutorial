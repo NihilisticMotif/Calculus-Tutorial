{
  "nbformat": 4,
  "nbformat_minor": 0,
  "metadata": {
    "colab": {
      "provenance": [],
      "collapsed_sections": [
        "xDMH0NmE0Ui2",
        "RNh7jF5Z9Oor",
        "2PqKfFaM5Amr",
        "ago0fZlawozN",
        "9HEMhras8fNe",
        "Vo7n_5EZFt91",
        "68lYTFD0T63X",
        "tFUskp69UuJe",
        "WYrG-2fT5cWx"
      ],
      "authorship_tag": "ABX9TyMj1wFwnUVu0lFDYNI8fd/0",
      "include_colab_link": true
    },
    "kernelspec": {
      "name": "python3",
      "display_name": "Python 3"
    },
    "language_info": {
      "name": "python"
    }
  },
  "cells": [
    {
      "cell_type": "markdown",
      "metadata": {
        "id": "view-in-github",
        "colab_type": "text"
      },
      "source": [
        "<a href=\"https://colab.research.google.com/github/NihilisticMotif/Calculus/blob/main/Math_Cal_Derivative_Formula.ipynb\" target=\"_parent\"><img src=\"https://colab.research.google.com/assets/colab-badge.svg\" alt=\"Open In Colab\"/></a>"
      ]
    },
    {
      "cell_type": "markdown",
      "source": [
        "###(0) Constant Rule, $f'(x)=0 $, {$ x = c$}"
      ],
      "metadata": {
        "id": "YZovfdgh0pAn"
      }
    },
    {
      "cell_type": "markdown",
      "source": [
        "$f'(x)=0 $, {$ x = c$}"
      ],
      "metadata": {
        "id": "qqmteXVJ2imV"
      }
    },
    {
      "cell_type": "markdown",
      "source": [
        "Prove:\n",
        "\n",
        "$f(x)=10$\n",
        "\n",
        "$f'(x) = \\lim_{h\\to 0} \\frac{10-10}{h} = 0$"
      ],
      "metadata": {
        "id": "0QZrkBLH2jLD"
      }
    },
    {
      "cell_type": "markdown",
      "source": [
        "###(1) Sum Rule, $\\frac{d}{dx}[f(x)+g(x)] = \\frac{d}{dx}f(x)+\\frac{d}{dx}g(x)$"
      ],
      "metadata": {
        "id": "xDMH0NmE0Ui2"
      }
    },
    {
      "cell_type": "markdown",
      "source": [
        "$\\frac{d}{dx}[f(x)+g(x)] = \\frac{d}{dx}f(x)+\\frac{d}{dx}g(x)$\n",
        "\n",
        "$\\frac{d}{dx}[f(x)-g(x)] = \\frac{d}{dx}f(x)-\\frac{d}{dx}g(x)$\n"
      ],
      "metadata": {
        "id": "4C-2uZKS25KA"
      }
    },
    {
      "cell_type": "markdown",
      "source": [
        "Prove No.1:\n",
        "\n",
        "$f(x)=u(x)+v(x)$\n",
        "\n",
        "$f'(x) = \\lim_{h\\to 0} \\frac{f(x+h)-f(x)}{h}$\n",
        "\n",
        "$= \\lim_{h\\to 0} \\frac{u(x+h)+v(x+h)-u(x)-v(x)}{h}$\n",
        "\n",
        "$= \\lim_{h\\to 0} \\frac{u(x+h)-u(x)+v(x+h)-v(x)}{h}$\n",
        "\n",
        "$= \\lim_{h\\to 0} \\frac{u(x+h)-u(x)}{h}+\\frac{v(x+h)-v(x)}{h}$\n",
        "\n",
        "$= \\lim_{h\\to 0} \\frac{u(x+h)-u(x)}{h}+\\lim_{h\\to 0} \\frac{v(x+h)-v(x)}{h}$\n",
        "\n",
        "$= u'(x) + v'(x)$\n",
        "\n",
        "$\\therefore f'(x)=u'(x)+v'(x)$"
      ],
      "metadata": {
        "id": "3XxZiUpY25rN"
      }
    },
    {
      "cell_type": "markdown",
      "source": [
        "reference:\n",
        "* https://youtu.be/hZAS9ilEbEE\n",
        "* https://www.khanacademy.org/math/old-ap-calculus-ab/ab-derivative-rules/ab-basic-diff-rules/a/basic-differentiation-review"
      ],
      "metadata": {
        "id": "cwb2ylXo9FZm"
      }
    },
    {
      "cell_type": "markdown",
      "source": [
        "###(2.1) Constant multiple rule No.1, $\\frac{d}{dx}[k*f(x)] = k*\\frac{d}{dx}f(x)$"
      ],
      "metadata": {
        "id": "RNh7jF5Z9Oor"
      }
    },
    {
      "cell_type": "markdown",
      "source": [
        "$\\frac{d}{dx}[k*f(x)] = k*\\frac{d}{dx}f(x)$"
      ],
      "metadata": {
        "id": "uCz_Imja9u0-"
      }
    },
    {
      "cell_type": "markdown",
      "source": [
        "Prove No.1:\n",
        "\n",
        "$f(x)=k*g(x)$\n",
        "\n",
        "$f'(x) = \\lim_{h\\to 0} \\frac{f(x+h)-f(x)}{h}$\n",
        "\n",
        "$= \\lim_{h\\to 0} \\frac{k*g(x+h)-k*g(x)}{h}$\n",
        "\n",
        "$= k*\\lim_{h\\to 0} \\frac{g(x+h)-g(x)}{h}$\n",
        "\n",
        "$\\therefore \\frac{dx}{dy}[k*g(x)]=k*g'(x)$"
      ],
      "metadata": {
        "id": "AE0aZZi49yui"
      }
    },
    {
      "cell_type": "markdown",
      "source": [
        "###(2.2) Constant multiple rule No.2, $f'(nx+c) = n$"
      ],
      "metadata": {
        "id": "2PqKfFaM5Amr"
      }
    },
    {
      "cell_type": "markdown",
      "source": [
        "$f'(nx+c) = n$"
      ],
      "metadata": {
        "id": "PwMuK41uyYsT"
      }
    },
    {
      "cell_type": "markdown",
      "source": [
        "Prove:\n",
        "\n",
        "$f(x) = nx+c$\n",
        "\n",
        "$f'(x) = \\lim_{h\\to 0} \\frac{f(x+h)-f(x)}{h}$\n",
        "\n",
        "$= \\lim_{h\\to 0} \\frac{(n(x+h)+c)-(n(x)+c)}{h}$\n",
        "\n",
        "$= \\lim_{h\\to 0} \\frac{nx+nh+c-nx-c}{h}$\n",
        "\n",
        "$= \\lim_{h\\to 0} \\frac{nh}{h}$\n",
        "\n",
        "$= \\lim_{h\\to 0} n$\n",
        "\n",
        "$\\therefore f'(nx) = n$"
      ],
      "metadata": {
        "id": "lLFOV8Bh5SDD"
      }
    },
    {
      "cell_type": "markdown",
      "source": [
        "###(3.1) Power Rule: $f'(x^n) = nx^{n-1}$"
      ],
      "metadata": {
        "id": "ago0fZlawozN"
      }
    },
    {
      "cell_type": "markdown",
      "source": [
        "Prove:\n",
        "\n",
        "\n",
        "$f(x) = x^n$\n",
        "\n",
        "$f'(x) = \\lim_{h\\to 0} \\frac{f(x+h)-f(x)}{h}$\n",
        "\n",
        "$= \\lim_{h\\to 0} \\frac{(x+h)^n-(x)^n}{h}$\n",
        "\n",
        "$= \\lim_{h\\to 0} \\frac{(x)^n+nhx^{n-1}+h^2(...)-(x)^n}{h}$\n",
        "\n",
        "$= \\lim_{h\\to 0} \\frac{nhx^{n-1}+h^2(...)}{h}$\n",
        "\n",
        "$= \\lim_{h\\to 0} {nx^{n-1}+h(...)}$\n",
        "\n",
        "$\\therefore f'(x^n) = nx^{n-1}$"
      ],
      "metadata": {
        "id": "g_aAgTu20v49"
      }
    },
    {
      "cell_type": "markdown",
      "source": [
        "Warning No.1:\n",
        "\n",
        "$\\frac{d}{dx}[(ax+b)^c] \\neq c(ax+b)^{c-1}$\n",
        "\n",
        "$\\frac{d}{dx}[(ax+b)^c] = ac(ax+b)^{c-1}$\n",
        "\n",
        "Example No.1:\n",
        "\n",
        "$\\frac{d}{dx}[(3-x)^{\\frac{-1}{2}}] = \\frac{-1}{2}*-1*(3-x)^{\\frac{-3}{2}} = \\frac{1}{2}*(3-x)^{\\frac{-3}{2}}$"
      ],
      "metadata": {
        "id": "6natPCBkhe40"
      }
    },
    {
      "cell_type": "markdown",
      "source": [
        "Prove that $\\frac{d}{dx}[x^{-n}]=-n*x^{-n-1}:$\n",
        "\n",
        "$f(x)= x^{\\frac{1}{n}}$\n",
        "\n",
        "$f'(x)=\\lim_{h\\to 0}\\frac{(x+h)^{-n}-x^{-n}}{h}$\n",
        "\n",
        "$=\\lim_{h\\to 0}\\frac{\\frac{1}{(x+h)^{n}}-\\frac{1}{x^{n}}}{h}$\n",
        "\n",
        "$=\\lim_{h\\to 0}\\frac{(x)^{n}-(x+h)^{n}}{h*(x+h)^{n}*(x)^{n}}$\n",
        "\n",
        "$=\\lim_{h\\to 0}\\frac{(x)^{n}-x^n-nhx^{n-1}-h^2(...)}{h*(x^n+nhx^{n-1}+h^2(...))*(x)^{n}}$\n",
        "\n",
        "$=\\lim_{h\\to 0}\\frac{-nhx^{n-1}-h^2(...)}{h*(x^n+nhx^{n-1}+h^2(...))*(x)^{n}}$\n",
        "\n",
        "$=\\lim_{h\\to 0}\\frac{-nx^{n-1}-h(...)}{(x^n+nhx^{n-1}+h^2(...))*(x)^{n}}$\n",
        "\n",
        "$=\\lim_{h\\to 0}\\frac{-nx^{n-1}-0}{(x^n+0)*(x)^{n}}$\n",
        "\n",
        "$=\\lim_{h\\to 0}\\frac{-nx^{n-1}}{x^{2n}}$\n",
        "\n",
        "$=\\lim_{h\\to 0}-nx^{n-1-2n}$\n",
        "\n",
        "$=\\lim_{h\\to 0}-nx^{-1-n}$"
      ],
      "metadata": {
        "id": "E4ijCyOP54_z"
      }
    },
    {
      "cell_type": "markdown",
      "source": [
        "Prove that $\\frac{d}{dx}[(ax+b)^c] = ac(ax+b)^{c-1}$:\n",
        "\n",
        "$f(x)=x^c$\n",
        "\n",
        "$g(x)=ax+b$\n",
        "\n",
        "$f(g(x)) = (ax+b)^c$\n",
        "\n",
        "According to Chain Rule: $\\frac{d}{dx}[f(g(x))] = f'(g(x))*g'(x)$\n",
        "\n",
        "$\\frac{d}{dx}[f(g(x))] = c(ax+b)^{c-1}*a*1*x^{1-1}$\n",
        "\n",
        "$\\therefore \\frac{d}{dx}[f(g(x))] = ac(ax+b)^{c-1}$"
      ],
      "metadata": {
        "id": "T1EmVcaOG6mY"
      }
    },
    {
      "cell_type": "markdown",
      "source": [
        "###(3.2) Multiplication + Power Rule, $f'(ax^n) = anx^{n-1}$"
      ],
      "metadata": {
        "id": "9HEMhras8fNe"
      }
    },
    {
      "cell_type": "markdown",
      "source": [
        "Prove:\n",
        "\n",
        "$f(x)=ax^n$\n",
        "\n",
        "$f'(x) = \\lim_{h\\to 0} \\frac{f(x+h)-f(x)}{h}$\n",
        "\n",
        "$= \\lim_{h\\to 0} \\frac{a(x+h)^n-a(x)^n}{h}$\n",
        "\n",
        "$= \\lim_{h\\to 0} \\frac{a(x)^n+anhx^{n-1}+ah^2(...)-a(x)^n}{h}$\n",
        "\n",
        "$= \\lim_{h\\to 0} \\frac{anhx^{n-1}+h^2(...)}{h}$\n",
        "\n",
        "$= \\lim_{h\\to 0} {anx^{n-1}+h(...)}$\n",
        "\n",
        "$\\therefore f'(ax^n) = anx^{n-1}$"
      ],
      "metadata": {
        "id": "DeMlQgj98wxr"
      }
    },
    {
      "cell_type": "markdown",
      "source": [
        "###(4) $\\frac{d}{dx}[e^x] =e^x$"
      ],
      "metadata": {
        "id": "HLh6U2yywxEV"
      }
    },
    {
      "cell_type": "markdown",
      "source": [
        "**Prove that: $\\frac{d}{dx}[e^x]=e^x$\n",
        "\n",
        "Property $e$\n",
        "\n",
        "1. $\\lim_{n \\to \\infty}(1+\\frac{1}{n})^n=e$\n",
        "2. $\\lim_{h \\to 0}\\frac{e^{h}-1}{h}=1$\n",
        "\n",
        "\n",
        "$\\therefore\\frac{d}{dx}[e^x] = \\lim_{h \\to 0}\\frac{e^{x+h}-e^x}{h} = e^x\\lim_{h \\to 0}\\frac{e^{h}-1}{h} = e^x$"
      ],
      "metadata": {
        "id": "5F35d7Gqw28x"
      }
    },
    {
      "cell_type": "markdown",
      "source": [
        "**Prove that $\\lim_{h \\to 0}\\frac{e^{h}-1}{h}=1$ No.1:**\n",
        "\n",
        "Given that\n",
        "* $y=e^h-1$\n",
        "\n",
        "$\\therefore y+1=e^h$\n",
        "\n",
        "$\\log_e(y+1)=\\log_e(e^h)$\n",
        "\n",
        "According to Logarithm property: $\\log_aa^x=x$\n",
        "\n",
        "$\\therefore \\log_e(y+1)=h$\n",
        "\n",
        "Given that\n",
        "* $y=e^h-1$\n",
        "* $\\log_e(y+1)=h$\n",
        "\n",
        "$\\therefore \\frac{e^{h}-1}{h}=\\frac{y}{\\log_e(y+1)}=\\frac{e^{h}-1}{\\log_e(e^h-1+1)}$\n",
        "\n",
        "Given that:\n",
        "* $\\lim_{h\\to0}e^h-1=\\lim_{y\\to0}y$\n",
        "\n",
        "$\\therefore \\lim_{h\\to0}\\frac{e^{h}-1}{h}=\\lim_{y\\to0}\\frac{y}{\\log_e(y+1)}$\n",
        "\n",
        "$\\lim_{y\\to0}\\frac{y}{\\ln(y+1)}=\\lim_{y\\to0}\\frac{1}{\\frac{\\ln(y+1)}{y}}$\n",
        "\n",
        "$\\lim_{y\\to0}\\frac{y}{\\ln(y+1)}=\\lim_{y\\to0}\\frac{1}{\\frac{1}{y}*\\ln(y+1)}$\n",
        "\n",
        "\n",
        "According to Logarithm property: $\\log_a(x^y)=y*\\log_a(x)=\\log_a(x)*y$\n",
        "\n",
        "$\\therefore\\lim_{y\\to0}\\frac{y}{\\ln(y+1)}=\\lim_{y\\to0}\\frac{1}{\\ln((y+1)^\\frac{1}{y})}$\n",
        "\n",
        "Given that\n",
        "* $\\lim_{n\\to\\infty}(1+\\frac{1}{n})^n=e$\n",
        "* $\\lim_{n\\to\\infty}\\frac{1}{n}=\\lim_{y\\to0}y$\n",
        "* $\\therefore \\lim_{n\\to\\infty}(1+\\frac{1}{n})^n=\\lim_{y\\to0}(y+1)^\\frac{1}{y}=e$\n",
        "\n",
        "$\\therefore\\lim_{y\\to0}\\frac{y}{\\ln(y+1)}=\\frac{1}{\\ln(e)}$\n",
        "\n",
        "According to Logarithm property: $\\log_aa^x=x$\n",
        "\n",
        "$\\therefore\\lim_{y\\to0}\\frac{y}{\\ln(y+1)}=\\frac{1}{1}=1$\n",
        "\n",
        "reference:\n",
        "* https://youtu.be/qWw8VnzTddg\n",
        "* https://socratic.org/questions/how-do-you-solve-the-following-limit-e-x-1-x-as-x-approaches-zero"
      ],
      "metadata": {
        "id": "7rJUQgU0Xohu"
      }
    },
    {
      "cell_type": "markdown",
      "source": [
        "**Prove that $\\lim_{h \\to 0}\\frac{e^{h}-1}{h}=1$ No.2:**\n",
        "\n",
        "According to L'Hôpital's rule, $\\lim_{x\\to c}\\frac{f(x)}{g(x)}=\\lim_{x\\to c}\\frac{f'(x)}{g'(x)}$\n",
        "\n",
        "$\\therefore\\lim_{h \\to 0}\\frac{e^{h}-1}{h}=\\lim_{h \\to 0}\\frac{e^{h}-0}{1}=\\frac{e^{0}-0}{1}=1$\n",
        "\n",
        "reference:\n",
        "* https://www.quora.com/How-lim-of-h-approach-to-zero-e-h-1-h-is-equal-to-1-but-by-direct-substituting-you-get-0-0"
      ],
      "metadata": {
        "id": "jFc5tgP0gQio"
      }
    },
    {
      "cell_type": "markdown",
      "source": [
        "**Prove that $\\lim_{h\\to0}\\frac{c^{h}-1}{h}=\\log_e(c)=\\ln(c)$:**\n",
        "\n",
        "Given that:\n",
        "* $y=c^h-1$\n",
        "\n",
        "$y+1=c^h$\n",
        "\n",
        "$\\ln(y+1)=\\ln(c^h)$\n",
        "\n",
        "According to Logarithm: $\\log_a(x^y)=y*\\log_a(x)=\\log_a(x)*y$\n",
        "\n",
        "$\\therefore\\ln(y+1)=h*\\ln(c)$\n",
        "\n",
        "$\\frac{\\ln(y+1)}{\\ln(c)}=h$\n",
        "\n",
        "Given that:\n",
        "* $y=c^h-1$\n",
        "* $\\frac{\\ln(y+1)}{\\ln(c)}=h$\n",
        "\n",
        "$\\therefore \\frac{c^h-1}{h}=\\frac{y}{\\frac{\\ln(y+1)}{\\ln(c)}}$\n",
        "\n",
        "$\\frac{c^h-1}{h}=\\frac{y}{\\ln(y+1)}*\\ln(c)=\\ln(c)$\n",
        "\n",
        "\n",
        "reference:\n",
        "* https://math.stackexchange.com/questions/331153/proving-that-lim-h-to-0-fracbh-1h-lnb"
      ],
      "metadata": {
        "id": "N6JQ6fyedivN"
      }
    },
    {
      "cell_type": "markdown",
      "source": [
        "###(4.2) $\\frac{d}{dx}c^x=e^{\\ln(cx)}*\\ln(c)x$"
      ],
      "metadata": {
        "id": "F1ZRSksg2wBY"
      }
    },
    {
      "cell_type": "markdown",
      "source": [
        "**Prove:**\n",
        "* $(c)^x=(e^{log_ec})^x=e^{log_e(c)x}$\n",
        "* $\\ln(c)=\\log_e(c)$\n",
        "\n",
        "$\\frac{d}{dx}[c^x]=\\frac{d}{dx}[e^{\\log_e((c)x)}]$\n",
        "\n",
        "$=\\frac{d}{dx}[e^{\\ln(c)x}]$\n",
        "\n",
        "$=e^{\\ln(cx)}*\\frac{d}{dx}[\\ln(c)x]$\n",
        "\n",
        "$=e^{\\ln(cx)}*\\ln(c)x$"
      ],
      "metadata": {
        "id": "oTfzddW14k_8"
      }
    },
    {
      "cell_type": "markdown",
      "source": [
        "###(5) Product Rule, $\\frac{d}{dx}[f(x)*g(x)] = f'(x)*g(x)+g'(x)*f(x)$"
      ],
      "metadata": {
        "id": "tFUskp69UuJe"
      }
    },
    {
      "cell_type": "markdown",
      "source": [
        "$\\frac{d}{dx}[f(x)*g(x)] = f'(x)*g(x)+g'(x)*f(x)$"
      ],
      "metadata": {
        "id": "ru5HgNfuVUwd"
      }
    },
    {
      "cell_type": "markdown",
      "source": [
        "Prove:\n",
        "\n",
        "$z(x)=f(x)*g(x)$\n",
        "\n",
        "$z'(x)= \\lim_{h\\to 0} \\frac{f(x+h)*g(x+h)-f(x)*g(x)}{h}$\n",
        "\n",
        "$z'(x)= \\lim_{h\\to 0} \\frac{f(x+h)*g(x+h)-f(x)*g(x)+f(x+h)*g(x)-f(x+h)*g(x)}{h}$\n",
        "\n",
        "$z'(x)= \\lim_{h\\to 0} \\frac{f(x+h)*g(x+h)-f(x+h)*g(x)-f(x)*g(x)+f(x+h)*g(x)}{h}$\n",
        "\n",
        "$z'(x)= \\lim_{h\\to 0} \\frac{f(x+h)*(g(x+h)-g(x))+g(x)*(f(x+h)-f(x))}{h}$\n",
        "\n",
        "$z'(x)= \\lim_{h\\to 0} \\frac{f(x+h)*(g(x+h)-g(x))}{h}+\\lim_{h\\to 0} \\frac{g(x)*(f(x+h)-f(x))}{h}$\n",
        "\n",
        "$z'(x)= \\lim_{h\\to 0}f(x+h)*\\lim_{h\\to 0} \\frac{(g(x+h)-g(x))}{h}+\\lim_{h\\to 0}g(x)*\\lim_{h\\to 0} \\frac{(f(x+h)-f(x))}{h}$\n",
        "\n",
        "$\\therefore z'(x)= f(x)*g'(x)+g(x)*f'(x)$\n"
      ],
      "metadata": {
        "id": "nIqoKB1iVVJe"
      }
    },
    {
      "cell_type": "markdown",
      "source": [
        "reference:\n",
        "\n",
        "* https://www.khanacademy.org/math/ap-calculus-ab/ab-differentiation-1-new/ab-2-8/a/product-rule-review\n",
        "* https://www.khanacademy.org/math/ap-calculus-ab/ab-differentiation-1-new/ab-diff-1-optional/v/product-rule-proof"
      ],
      "metadata": {
        "id": "bzHC1iKfVXBT"
      }
    },
    {
      "cell_type": "markdown",
      "source": [
        "###(6) Quotient Rule, $\\frac{d}{dx}[\\frac{f(x)}{g(x)}] = \\frac{\\frac{d}{dx}f(x)*g(x)-\\frac{d}{dx}g(x)*f(x)}{(g(x))^2}$"
      ],
      "metadata": {
        "id": "68lYTFD0T63X"
      }
    },
    {
      "cell_type": "markdown",
      "source": [
        "$\\frac{d}{dx}[\\frac{f(x)}{g(x)}] = \\frac{\\frac{d}{dx}f(x)*g(x)-\\frac{d}{dx}g(x)*f(x)}{(g(x))^2}$"
      ],
      "metadata": {
        "id": "HHP-J96jmMbe"
      }
    },
    {
      "cell_type": "markdown",
      "source": [
        "Prove:\n",
        "\n",
        "$f(x) = \\frac{u(x)}{v(x)}$\n",
        "\n",
        "$f'(x) = \\lim_{h\\to 0} \\frac{\\frac{u(x+h)}{v(x+h)}-\\frac{u(x)}{v(x)}}{h}$\n",
        "\n",
        "$= \\lim_{h\\to 0} \\frac{u(x+h)*v(x)-u(x)v(x+h)}{v(x+h)*v(x)*h}$\n",
        "\n",
        "$= \\lim_{h\\to 0} \\frac{u(x+h)*v(x)-u(x)v(x+h)+u(x)*v(x)-u(x)*v(x)}{v(x+h)*v(x)*h}$\n",
        "\n",
        "$= \\lim_{h\\to 0} \\frac{u(x+h)*v(x)-u(x)*v(x)-u(x)v(x+h)+u(x)*v(x)}{v(x+h)*v(x)*h}$\n",
        "\n",
        "$= \\lim_{h\\to 0} \\frac{(u(x+h)-u(x))*v(x)-u(x)(v(x+h)-v(x))}{v(x+h)*v(x)*h}$\n",
        "\n",
        "$= \\lim_{h\\to 0} \\frac{\\frac{(u(x+h)-u(x))}{h}*v(x)-u(x)\\frac{(v(x+h)-v(x))}{h}}{v(x+h)*v(x)}$\n",
        "\n",
        "$\\therefore f'(x) = \\frac{dx}{dy}[\\frac{u'(x)}{v'(x)}]=\\frac{u'(x)*v(x)-v'(x)*u(x)}{(v(x))^2}$"
      ],
      "metadata": {
        "id": "1EfjsqDPmNXp"
      }
    },
    {
      "cell_type": "markdown",
      "source": [
        "###(7) Reciprocal Rule, $\\frac {dy}{dx}[\\frac {1}{f(x)}] = \\frac {-f'(x)}{(f(x))^2}$"
      ],
      "metadata": {
        "id": "WYrG-2fT5cWx"
      }
    },
    {
      "cell_type": "markdown",
      "source": [
        "Prove:\n",
        "\n",
        "$z(x)=\\frac {1}{f(x)}$\n",
        "\n",
        "$z'(x)= \\lim_{h\\to 0} \\frac{\\frac {1}{f(x+h)}-\\frac {1}{f(x)}}{h}$\n",
        "\n",
        "$z'(x)= \\lim_{h\\to 0} \\frac{\\frac {f(x)}{f(x+h)f(x)}-\\frac {f(x+h)}{f(x)f(x+h)}}{h}$\n",
        "\n",
        "$z'(x)= \\lim_{h\\to 0} \\frac{f(x)-f(x+h)}{h*f(x+h)f(x)}$\n",
        "\n",
        "$z'(x)= \\lim_{h\\to 0} \\frac{-(f(x+h)-f(x))}{h*f(x+h)f(x)}$\n",
        "\n",
        "$z'(x)= \\lim_{h\\to 0} \\frac{1}{f(x+h)f(x)}*\\lim_{h\\to 0} \\frac{-(f(x+h)-f(x))}{h}$\n",
        "\n",
        "$z'(x)= \\frac{1}{(f(x))^2}*-1*f'(x)$\n",
        "\n",
        "$\\therefore z'(x)= \\frac{-f'(x)}{(f(x))^2}$"
      ],
      "metadata": {
        "id": "U4TbLn2_5_XV"
      }
    },
    {
      "cell_type": "markdown",
      "source": [
        "###(8) Chain Rule: $\\frac{d}{dx}[f(g(x))] = (f\\circ g)'= f'(g(x))*g'(x)$"
      ],
      "metadata": {
        "id": "Vo7n_5EZFt91"
      }
    },
    {
      "cell_type": "markdown",
      "source": [
        "Composite Function \n",
        "\n",
        "$(f\\circ g) = f(g(x))$\n",
        "\n",
        "$f(x)$ is outer function\n",
        "\n",
        "$g(x)$ is inner function"
      ],
      "metadata": {
        "id": "q7XgE4GUd3Sd"
      }
    },
    {
      "cell_type": "markdown",
      "source": [
        "Example No.1\n",
        "\n",
        "$f(x)=cos(x^2)$\n",
        "\n",
        "$f(x) = cos(x)$ is outer function\n",
        "\n",
        "$g(x) = x^2$ is inner function\n",
        "\n",
        "Example No.2\n",
        "\n",
        "$f(x) = 2x+4$\n",
        "\n",
        "$g(x) = x^3$\n",
        "\n",
        "$(f ∘ g)(x) = f(g(x)) = f(x^3) = 2x^3 + 4$\n",
        "\n",
        "$(g ∘ f)(x) = g(f(x)) = g(2x + 4) = (2x + 4)^3.$"
      ],
      "metadata": {
        "id": "VvQsG6U1w6DN"
      }
    },
    {
      "cell_type": "markdown",
      "source": [
        "Chain Rule\n",
        "\n",
        "$\\frac{d}{dx}[f(g(x))] = f'(g(x))*g'(x)$\n",
        "\n",
        "$\\frac{d}{dx}[f(g(x))] = \\frac{df}{dx}f(g(x)) = \\frac{df}{dg}f(g(x))*\\frac{dg}{dx}g(x)$"
      ],
      "metadata": {
        "id": "6PQ0ESKYdx75"
      }
    },
    {
      "cell_type": "markdown",
      "source": [
        "Note\n",
        "\n",
        "$\\frac{dy}{dx}[f(g(x))] \\neq f'(g(x))$\n",
        "\n",
        "$\\frac{dy}{dx}[f(g(x))] \\neq f'(g'(x))$\n",
        "\n",
        "$\\frac{dy}{dg}f(g(x)) = f'(g(x))*g'(x)$"
      ],
      "metadata": {
        "id": "7oTs2cUhILQH"
      }
    },
    {
      "cell_type": "markdown",
      "source": [
        "Prove: $\\frac{dy}{dg}f(g(x)) = f'(g(x))*g'(x)$\n",
        "\n",
        "$z=f(g(x))$\n",
        "\n",
        "$z'(x) = \\lim_{h\\to 0} \\frac{f(g(x+h))-f(g(x))}{h}$\n",
        "\n",
        "$= \\lim_{h\\to 0} \\frac{f(g(x+h))-f(g(x))}{h}*\\frac{g(x+h)-g(x)}{g(x+h)-g(x)}$\n",
        "\n",
        "$= \\lim_{h\\to 0} \\frac{f(g(x+h))-f(g(x))}{g(x+h)-g(x)}*\\frac{g(x+h)-g(x)}{h}$\n",
        "\n",
        "$= \\lim_{h\\to 0} \\frac{f(g(x+h))-f(g(x))}{g(x+h)-g(x)}*\\lim_{h\\to 0} \\frac{g(x+h)-g(x)}{h}$\n",
        "\n",
        "$= \\lim_{h\\to 0} \\frac{f(g(x+h))-f(g(x))}{g(x+h)-g(x)}*g'(x)$\n",
        "\n",
        "Let $k = g(x+h)-g(x)$\n",
        "\n",
        "$\\therefore g(x+h)=k+g(x)$\n",
        "\n",
        "$z'(x) = \\lim_{k\\to 0} \\frac{f(g(x)+k)-f(g(x))}{k}*g'(x)$\n",
        "\n",
        "$\\therefore z'(x) = \\frac{d}{dx}[f(g(x))]= f'(g(x))*g'(x)$\n",
        "\n"
      ],
      "metadata": {
        "id": "gsrsm1vxv2Tg"
      }
    },
    {
      "cell_type": "markdown",
      "source": [
        "reference\n",
        "* https://tutorial.math.lamar.edu/classes/calci/DerivativeProofs.aspx\n",
        "* https://www.khanacademy.org/math/ap-calculus-ab/ab-differentiation-2-new/ab-diff-2-optional/v/chain-rule-proof\n",
        "* https://www.khanacademy.org/math/ap-calculus-ab/ab-differentiation-2-new/ab-3-1a/a/chain-rule-review\n",
        "* https://youtu.be/m0LZX19DyyI"
      ],
      "metadata": {
        "id": "93shqmTUZe4P"
      }
    },
    {
      "cell_type": "markdown",
      "source": [
        "###(9) $\\frac{d}{dx}[\\sin(x)]=\\cos(x)$ and $\\frac{d}{dx}[\\cos(x)]=-\\sin(x)$"
      ],
      "metadata": {
        "id": "5hYfZY41Hc9a"
      }
    },
    {
      "cell_type": "markdown",
      "source": [
        "Prove that $\\frac{d}{dx}[\\sin(x)]=\\cos(x)$:\n",
        "\n",
        "$\\frac{d}{dx}[\\sin(x)]=\\lim_{h \\to 0}\\frac{\\sin(x+h)-sin(x)}{h}$\n",
        "\n",
        "$=\\lim_{h \\to 0}\\frac{\\sin(x)\\cos(h)+\\cos(x)\\sin(h)-sin(x)}{h}$\n",
        "\n",
        "$=\\lim_{h\\to0}\\frac{\\sin(x)\\cos(h)-\\sin(x)}{h}+ \\lim_{h\\to0}\\frac{\\cos(x)*\\sin(h)}{h}$\n",
        "\n",
        "$=\\sin(x)*\\lim_{h\\to0}\\frac{\\cos(h)-1}{h}+ \\cos(x)*\\lim_{h\\to0}\\frac{\\sin(h)}{h}$\n",
        "\n",
        "$=\\sin(x)*0+ \\cos(x)*1$\n",
        "\n",
        "$\\therefore \\frac{d}{dx}[\\sin(x)]=\\cos(x)$"
      ],
      "metadata": {
        "id": "8Dwst4SRONyn"
      }
    },
    {
      "cell_type": "markdown",
      "source": [
        "Prove that $\\frac{d}{dx}[\\cos(x)]=-\\sin(x)$:\n",
        "\n",
        "$\\frac{d}{dx}[\\cos(x)]=\\lim_{h\\to0}\\frac{\\cos(x+h)-\\cos(x)}{h}$\n",
        "\n",
        "$=\\lim_{h\\to0}\\frac{\\cos(x)\\cos(h)-\\sin(x)\\sin(h)-\\cos(x)}{h}$\n",
        "\n",
        "$=\\lim_{h\\to0}\\frac{\\cos(x)\\cos(h)-\\cos(x)-\\sin(x)\\sin(h)}{h}$\n",
        "\n",
        "$=\\lim_{h\\to0}\\frac{\\cos(x)\\cos(h)-\\cos(x)}{h} + \\lim_{h\\to0}\\frac{-\\sin(x)\\sin(h)}{h}$\n",
        "\n",
        "$=\\cos(x)*\\lim_{h\\to0}\\frac{\\cos(h)-1}{h} + -\\sin(x)*\\lim_{h\\to0}\\frac{\\sin(h)}{h}$\n",
        "\n",
        "$=\\cos(x)*0 + -\\sin(x)*1$\n",
        "\n",
        "$\\therefore \\frac{d}{dx}[\\cos(x)]=-\\sin(x)$"
      ],
      "metadata": {
        "id": "peAbQ-JyPV55"
      }
    },
    {
      "cell_type": "markdown",
      "source": [
        "###(10) $\\frac{d}{dx}[\\log_a(x)]=\\frac{1}{\\ln(a)*x}$"
      ],
      "metadata": {
        "id": "8Hi-CNuL9jZu"
      }
    },
    {
      "cell_type": "markdown",
      "source": [
        "**Prove that: $\\frac{d}{dx}[\\log_a(x)]=\\frac{1}{\\ln(a)*x}$**\n",
        "\n",
        "$\\frac{d}{dx}[\\log_a(x)]=\\lim_{h\\to0}\\frac{\\log_a(x+h)-\\log_a(x)}{h}$"
      ],
      "metadata": {
        "id": "DdH1irTo93to"
      }
    },
    {
      "cell_type": "markdown",
      "source": [],
      "metadata": {
        "id": "ym-s9RHF99ec"
      }
    },
    {
      "cell_type": "markdown",
      "source": [
        "###(11) implicit differentiation"
      ],
      "metadata": {
        "id": "bDj4rBpdV0sl"
      }
    },
    {
      "cell_type": "markdown",
      "source": [
        "**Note:**\n",
        "\n",
        "In order to find $\\frac{d}{dx}[f(x)]$, \n",
        "1. view other variable that is related to $x$, a.k.a. $y$ as inner function a.k.a. $y= g(x)$\n",
        "2. $\\frac{d}{dx}[y]=\\frac{d}{dx}[g(x)]=\\frac{dy}{dx}$"
      ],
      "metadata": {
        "id": "9HREQYZGlkXm"
      }
    },
    {
      "cell_type": "markdown",
      "source": [
        "**Example No.1**\n",
        "\n",
        "Finding $\\frac{dy}{dx}$ of $x^2+y^2=1$\n",
        "\n",
        "$\\frac{dy}{dx}[x^2+y^2]=\\frac{dy}{dx}[1]$\n",
        "\n",
        "$\\frac{dy}{dx}[x^2+y^2]=0$\n",
        "\n",
        "According to Sum Rule: $\\frac{d}{dx}[f(x)+g(x)] = \\frac{d}{dx}f(x)+\\frac{d}{dx}g(x)$\n",
        "\n",
        "$\\frac{dy}{dx}[x^2]+\\frac{dy}{dx}[y^2]=0$\n",
        "\n",
        "$2x+\\frac{dy}{dx}[y^2]=0$\n",
        "\n",
        "Given that:\n",
        "* $y\\text{ is a function that take $x$ as its input}\\implies y=g(x)\\implies y^2\\text{ is a nested function}\\implies y^2=f(g(x))$\n",
        "* $f(x)=x^2$\n",
        "* $g(x)=y$\n",
        "* $\\frac{d}{dx}[g(x)]=\\frac{dy}{dx}$\n",
        "* $\\therefore f(g(x))=g(x)^2$\n",
        "\n",
        "According to Chain Rule: $\\frac{d}{dx}[f(g(x))] = (f\\circ g)'= f'(g(x))*g'(x)$\n",
        "* $\\therefore \\frac{d}{dx}[y^2]=\\frac{d}{dx}[f(g(x))]= f'(g(x))*g'(x)=2g(x)*g'(x)=2y*\\frac{dy}{dx}$\n",
        "\n",
        "$\\therefore 2x+2y*\\frac{dy}{dx}=0$\n",
        "\n",
        "$x+y*\\frac{dy}{dx}=0$\n",
        "\n",
        "$y*\\frac{dy}{dx}=-x$\n",
        "\n",
        "$\\therefore\\frac{dy}{dx}=\\frac{-x}{y}$"
      ],
      "metadata": {
        "id": "y_v5Ty7fWsss"
      }
    },
    {
      "cell_type": "markdown",
      "source": [
        "**Example No.2**\n",
        "\n",
        "Finding $\\frac{d}{dx}$ of $x^2y-y^2x^3=3$\n",
        "\n",
        "$\\frac{d}{dx}[x^2y-y^2x^3]=\\frac{d}{dx}[3]$\n",
        "\n",
        "$\\frac{d}{dx}[x^2y]-\\frac{d}{dx}[y^2x^3]=0$\n",
        "\n",
        "Given that\n",
        "* $y=g(x)$\n",
        "* $\\frac{d}{dx}[y]=\\frac{dy}{dx}=\\frac{d}{dx}[g(x)]$\n",
        "\n",
        "$\\therefore \\frac{d}{dx}[x^2g(x)]+\\frac{d}{dx}[-g(x)^2x^3]=0$\n",
        "\n",
        "According to Product Rule: $\\frac{d}{dx}[f(x)*g(x)] = f'(x)*g(x)+g'(x)*f(x)$\n",
        "\n",
        "$\\therefore \\frac{d}{dx}[x^2]*g(x)+\\frac{d}{dx}[g(x)]*x^2+\\frac{d}{dx}[-g(x)^2]x^3+\\frac{d}{dx}[x^3]*(-g(x)^2)=0$\n",
        "\n",
        "$\\therefore \\frac{d}{dx}[x^2]*g(x)+\\frac{d}{dx}[g(x)]*x^2+\\frac{d}{dx}[-g(x)^2]x^3+\\frac{d}{dx}[x^3]*(-g(x)^2)=0$\n",
        "\n",
        "According to Power Rule: $f'(x^n) = nx^{n-1}$\n",
        "\n",
        "$\\therefore 2x*g(x)+\\frac{d}{dx}[g(x)]*x^2+\\frac{d}{dx}[-g(x)^2]x^3+3x^2*(-g(x)^2)=0$\n",
        "\n",
        "According to Chain Rule: $\\frac{d}{dx}[f(g(x))] = (f\\circ g)'= f'(g(x))*g'(x)$\n",
        "\n",
        "Given that:\n",
        "* $\\frac{d}{dx}[-g(x)^2]=-2g(x)\\frac{d}{dx}[g(x)]$\n",
        "\n",
        "$\\therefore 2x*g(x)+\\frac{d}{dx}[g(x)]*x^2+(-2g(x)\\frac{d}{dx}[g(x)])*x^3+3x^2*(-g(x)^2)=0$\n",
        "\n",
        "$2x*g(x)+\\frac{d}{dx}[g(x)]*x^2-2g(x)\\frac{d}{dx}[g(x)]*x^3-3x^2*g(x)^2=0$\n",
        "\n",
        "$2x*y+\\frac{dy}{dx}*x^2-2y\\frac{dy}{dx}*x^3-3x^2*y^2=0$\n",
        "\n",
        "$\\frac{dy}{dx}*x^2-2y\\frac{dy}{dx}*x^3=3x^2*y^2-2x*y$\n",
        "\n",
        "$x^2\\frac{dy}{dx}-2yx^3\\frac{dy}{dx}=3x^2*y^2-2x*y$\n",
        "\n",
        "$(x^2-2yx^3)\\frac{dy}{dx}=3x^2*y^2-2x*y$\n",
        "\n",
        "$\\therefore \\frac{dy}{dx}=\\frac{3x^2*y^2-2x*y}{x^2-2yx^3}$\n"
      ],
      "metadata": {
        "id": "sPwdxy-zXSvx"
      }
    },
    {
      "cell_type": "markdown",
      "source": [
        "reference:\n",
        "* https://youtu.be/eenHMD4zDAY\n",
        "* https://www.khanacademy.org/math/ap-calculus-ab/ab-differentiation-2-new/ab-3-2/a/implicit-differentiation-review"
      ],
      "metadata": {
        "id": "d2O-01mcV2dG"
      }
    },
    {
      "cell_type": "markdown",
      "source": [
        "###Reference"
      ],
      "metadata": {
        "id": "I5JR6I4O9wLI"
      }
    },
    {
      "cell_type": "markdown",
      "source": [
        "reference\n",
        "* https://www.khanacademy.org/math/calculus-1/cs1-derivatives-definition-and-basic-rules/cs1-power-rule/a/justifying-the-power-rule\n",
        "* https://math.stackexchange.com/questions/81325/why-is-xhn-written-like-this\n",
        "* (Prove in Cauculus1) https://tutorial.math.lamar.edu/classes/calci/DerivativeProofs.aspx"
      ],
      "metadata": {
        "id": "RHivlJ_1w8Nk"
      }
    }
  ]
}